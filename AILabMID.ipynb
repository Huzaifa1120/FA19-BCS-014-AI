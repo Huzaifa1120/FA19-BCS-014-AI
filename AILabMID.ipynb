{
  "nbformat": 4,
  "nbformat_minor": 0,
  "metadata": {
    "colab": {
      "provenance": []
    },
    "kernelspec": {
      "name": "python3",
      "display_name": "Python 3"
    },
    "language_info": {
      "name": "python"
    }
  },
  "cells": [
    {
      "cell_type": "code",
      "execution_count": 1,
      "metadata": {
        "colab": {
          "base_uri": "https://localhost:8080/"
        },
        "id": "qPZomRSldz1d",
        "outputId": "5ca89166-16e9-4458-c5de-442387810e8e"
      },
      "outputs": [
        {
          "name": "stdout",
          "output_type": "stream",
          "text": [
            "Menu (assume no duplicate keys)\n",
            "add <data> at root\n",
            "add <data> below <data>\n",
            "bfs\n",
            "quit\n",
            "What operation would you do ? quit\n"
          ]
        }
      ],
      "source": [
        "class Tree_struct:\n",
        "   def __init__(self, data=None):\n",
        "      self.key = data\n",
        "      self.children = []\n",
        "\n",
        "   def set_root(self, data):\n",
        "      self.key = data\n",
        "\n",
        "   def add_node(self, node):\n",
        "      self.children.append(node)\n",
        "\n",
        "   def search_node(self, key):\n",
        "      if self.key == key:\n",
        "         return self\n",
        "      for child in self.children:\n",
        "         temp = child.search_node(key)\n",
        "         if temp is not None:\n",
        "            return temp\n",
        "      return None\n",
        "\n",
        "   def bfs_operation(self):\n",
        "      queue = [self]\n",
        "      while queue != []:\n",
        "         popped = queue.pop(0)\n",
        "         for child in popped.children:\n",
        "            queue.append(child)\n",
        "         print(popped.key, end=' ')\n",
        "\n",
        "my_instance = None\n",
        "\n",
        "print('Menu (assume no duplicate keys)')\n",
        "print('add <data> at root')\n",
        "print('add <data> below <data>')\n",
        "print('bfs')\n",
        "print('quit')\n",
        "\n",
        "while True:\n",
        "   my_input = input('What operation would you do ? ').split()\n",
        "\n",
        "   operation = my_input[0].strip().lower()\n",
        "   if operation == 'add':\n",
        "      data = int(my_input[1])\n",
        "      new_node = Tree_struct(data)\n",
        "      suboperation = my_input[2].strip().lower()\n",
        "      if suboperation == 'at':\n",
        "         my_instance = new_node\n",
        "      elif suboperation == 'below':\n",
        "         position = my_input[3].strip().lower()\n",
        "         key = int(position)\n",
        "         ref_node = None\n",
        "         if my_instance is not None:\n",
        "            ref_node = my_instance.search_node(key)\n",
        "         if ref_node is None:\n",
        "            print('No such key')\n",
        "            continue\n",
        "         ref_node.add_node(new_node)\n",
        "\n",
        "   elif operation == 'bfs':\n",
        "      if my_instance is None:\n",
        "         print('The tree is empty')\n",
        "      else:\n",
        "         print('Breadth First Search traversal is : ', end='')\n",
        "         my_instance.bfs_operation()\n",
        "         print()\n",
        "\n",
        "   elif operation == 'quit':\n",
        "      break"
      ]
    },
    {
      "cell_type": "markdown",
      "source": [
        "Today my the topic that I have choosed is Python Program to Display the Nodes of a Tree using BFS Traversal. In This Program you can add data at root and then add different number below the data. The options for this are\n",
        "add <data> at root\n",
        "add <data> below <data>\n",
        "bfs\n",
        "quit\n",
        "We can choose b/w these option to traverse data in the BST\n",
        "Reference https://www.tutorialspoint.com/python-program-to-display-the-nodes-of-a-tree-using-bfs-traversal"
      ],
      "metadata": {
        "id": "GDc0MRjtd1y2"
      }
    }
  ]
}